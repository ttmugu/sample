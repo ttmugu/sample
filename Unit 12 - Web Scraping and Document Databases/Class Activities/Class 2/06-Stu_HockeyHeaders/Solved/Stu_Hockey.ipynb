{
 "cells": [
  {
   "cell_type": "code",
   "execution_count": 1,
   "metadata": {},
   "outputs": [],
   "source": [
    "# Dependencies\n",
    "from bs4 import BeautifulSoup\n",
    "import requests\n",
    "import pymongo"
   ]
  },
  {
   "cell_type": "code",
   "execution_count": 2,
   "metadata": {},
   "outputs": [],
   "source": [
    "# Initialize PyMongo to work with MongoDBs\n",
    "conn = 'mongodb://localhost:27017'\n",
    "client = pymongo.MongoClient(conn)"
   ]
  },
  {
   "cell_type": "code",
   "execution_count": 3,
   "metadata": {},
   "outputs": [],
   "source": [
    "# Define database and collection\n",
    "db = client.nhl_db\n",
    "collection = db.articles"
   ]
  },
  {
   "cell_type": "code",
   "execution_count": 4,
   "metadata": {},
   "outputs": [],
   "source": [
    "# URL of page to be scraped\n",
    "url = 'https://www.nhl.com/news'\n",
    "\n",
    "# Retrieve page with the requests module\n",
    "response = requests.get(url)\n",
    "# Create BeautifulSoup object; parse with 'lxml'\n",
    "soup = BeautifulSoup(response.text, 'lxml')"
   ]
  },
  {
   "cell_type": "code",
   "execution_count": 5,
   "metadata": {},
   "outputs": [
    {
     "name": "stdout",
     "output_type": "stream",
     "text": [
      "-----------------\n",
      "Blues, Bruins Cup Final rematch will be 'emotional game,' Berube says\n",
      "St. Louis coach, players embracing championship memories, Boston focused on two points\n",
      "2019-10-25\n",
      "-----------------\n",
      "McDonald reminisces about playing hockey outdoors before Heritage Classic\n",
      "Hockey Hall of Famer believes Flames game against Jets will be special for fans in Regina\n",
      "2019-10-26\n",
      "-----------------\n",
      "Gudbranson traded to Ducks by Penguins\n",
      "Pittsburgh receives forward Martinsen, seventh-round pick in 2021 NHL Draft\n",
      "2019-10-25\n",
      "-----------------\n",
      "Dubnyk returns to practice with Wild, likely will miss one more game\n",
      "Goalie not expected to play against Kings because of injury to side\n",
      "2019-10-25\n",
      "-----------------\n",
      "NHL fantasy team power rankings for 2019-20\n",
      "Kane's power-play impact has Sharks trending up; Bailey emerges as streaming option from Islanders\n",
      "2019-10-25\n",
      "-----------------\n",
      "Blues, Bruins to play in latest game between Stanley Cup finalists\n",
      "St. Louis, Boston face off in regular season for first time since Game 7\n",
      "2019-10-26\n",
      "-----------------\n",
      "Appleton breaks foot before Jets practice at Heritage Classic\n",
      "Forward is injured during football catch with teammates at Mosaic Stadium, out at least four weeks\n",
      "2019-10-26\n",
      "-----------------\n",
      "Giordano, Flames pleased by 'pretty warm' forecast for Heritage Classic\n",
      "Captain recalls frigid conditions for outdoor game in Calgary in 2011\n",
      "2019-10-25\n",
      "-----------------\n",
      "Facts and Figures: Leddy secures spot in Islanders history\n",
      "Becomes their first defenseman to score on penalty shot in victory at Senators\n",
      "2019-10-26\n",
      "-----------------\n",
      "Fantasy hockey top 200 rankings for 2019-20\n",
      "Eichel joins first 25; Oshie gives Capitals six among 100 best; Burakovsky added to list after Rantanen injury\n",
      "2019-10-25\n",
      "-----------------\n",
      "Sasakamoose recalls historic hockey journey while meeting Bettman\n",
      "NHL's first indigenous Canadian player expressed honor of having Heritage Classic in Saskatchewan\n",
      "2019-10-26\n",
      "-----------------\n",
      "Tarasenko won't make weekend road trip for Blues with upper-body injury\n",
      "Forward will not travel for games against Bruins, Red Wings\n",
      "2019-10-25\n",
      "-----------------\n",
      "Morrissey relishing increased responsibility among Jets defensemen\n",
      "24-year-old now mentor to younger players as Winnipeg prepares for Heritage Classic\n",
      "2019-10-25\n",
      "-----------------\n",
      "Hawerchuk on minds during NHL Legacy Luncheon\n",
      "Former Jets captain, member of Hockey Hall of Fame, has stomach cancer\n",
      "2019-10-25\n",
      "-----------------\n",
      "NHL DFS picks, projections, strategy\n",
      "Thomas poised for bigger role with Blues after Tarasenko injury; more daily fantasy targets\n",
      "2019-10-26\n",
      "-----------------\n",
      "NHL, Flames, Jets unveil scholarship ahead of Heritage Classic\n",
      "Legacy project to be awarded to students from University of Regina, University of Saskatchewan\n",
      "2019-10-25\n",
      "-----------------\n",
      "Blackhawks welcome boy who battled leukemia to practice\n",
      "12-year-old from Quebec will drop ceremonial puck during Chicago Hockey Fights Cancer night\n",
      "2019-10-25\n",
      "-----------------\n",
      "Dressed in Matthews jersey, Bieber fanboys out at Maple Leafs game\n",
      "Superstar took in Toronto win behind team bench with dad\n",
      "2019-10-26\n",
      "-----------------\n",
      "2019-20 NHL Trade Tracker\n",
      "Official deals since June 14\n",
      "2019-10-25\n",
      "-----------------\n",
      "Fantasy goalie top 25 rankings for 2019-20\n",
      "Coyotes, Islanders have best tandems; Jones trending down for Sharks\n",
      "2019-10-24\n",
      "-----------------\n",
      "Heritage Classic Diary: Mikael Backlund\n",
      "Flames center discusses benefits of hard practice, rooming with wife, daughter on road\n",
      "2019-10-26\n",
      "-----------------\n",
      "Heritage Classic Diary: Bryan Little\n",
      "Jets center tries to get used to outdoor surroundings, enjoys family skate with parents\n",
      "2019-10-26\n",
      "-----------------\n",
      "Perlini asks Blackhawks for trade\n",
      "Forward has been scratched in seven of eight games this season\n",
      "2019-10-25\n",
      "-----------------\n",
      "NHL Fantasy on Ice podcast available now\n",
      "Buy-low, sell-high candidates, Hischier's return, weekend picks in new episode\n",
      "2019-10-25\n",
      "-----------------\n",
      "Oct. 26: Gretzky becomes first NHL player with 2,000 points\n",
      "Plus: Lemieux scores 500th goal; Sabres win 10th straight game from start of season\n",
      "2019-10-26\n"
     ]
    }
   ],
   "source": [
    "# Retrieve the parent divs for all articles\n",
    "results = soup.find_all('div', class_='article-item__top')\n",
    "\n",
    "# loop over results to get article data\n",
    "for result in results:\n",
    "    # scrape the article header \n",
    "    header = result.find('h1', class_='article-item__headline').text\n",
    "    \n",
    "    # scrape the article subheader\n",
    "    subheader = result.find('h2', class_='article-item__subheader').text\n",
    "    \n",
    "    # scrape the datetime\n",
    "    datetime = result.find('span', class_='article-item__date')['data-date'] \n",
    "    \n",
    "    # get only the date from the datetime\n",
    "    date = datetime.split('T')[0]\n",
    "    \n",
    "    # print article data\n",
    "    print('-----------------')\n",
    "    print(header)\n",
    "    print(subheader)\n",
    "    print(date)\n",
    "\n",
    "    # Dictionary to be inserted into MongoDB\n",
    "    post = {\n",
    "        'header': header,\n",
    "        'subheader': subheader,\n",
    "        'date': date,\n",
    "    }\n",
    "\n",
    "    # Insert dictionary into MongoDB as a document\n",
    "    collection.insert_one(post)"
   ]
  },
  {
   "cell_type": "code",
   "execution_count": 6,
   "metadata": {},
   "outputs": [
    {
     "name": "stdout",
     "output_type": "stream",
     "text": [
      "{'_id': ObjectId('5db4785c3c72308e0ede0f93'), 'header': \"Blues, Bruins Cup Final rematch will be 'emotional game,' Berube says\", 'subheader': 'St. Louis coach, players embracing championship memories, Boston focused on two points', 'date': '2019-10-25'}\n",
      "{'_id': ObjectId('5db4785c3c72308e0ede0f94'), 'header': 'McDonald reminisces about playing hockey outdoors before Heritage Classic', 'subheader': 'Hockey Hall of Famer believes Flames game against Jets will be special for fans in Regina', 'date': '2019-10-26'}\n",
      "{'_id': ObjectId('5db4785c3c72308e0ede0f95'), 'header': 'Gudbranson traded to Ducks by Penguins', 'subheader': 'Pittsburgh receives forward Martinsen, seventh-round pick in 2021 NHL Draft', 'date': '2019-10-25'}\n",
      "{'_id': ObjectId('5db4785c3c72308e0ede0f96'), 'header': 'Dubnyk returns to practice with Wild, likely will miss one more game', 'subheader': 'Goalie not expected to play against Kings because of injury to side', 'date': '2019-10-25'}\n",
      "{'_id': ObjectId('5db4785c3c72308e0ede0f97'), 'header': 'NHL fantasy team power rankings for 2019-20', 'subheader': \"Kane's power-play impact has Sharks trending up; Bailey emerges as streaming option from Islanders\", 'date': '2019-10-25'}\n",
      "{'_id': ObjectId('5db4785c3c72308e0ede0f98'), 'header': 'Blues, Bruins to play in latest game between Stanley Cup finalists', 'subheader': 'St. Louis, Boston face off in regular season for first time since Game 7', 'date': '2019-10-26'}\n",
      "{'_id': ObjectId('5db4785c3c72308e0ede0f99'), 'header': 'Appleton breaks foot before Jets practice at Heritage Classic', 'subheader': 'Forward is injured during football catch with teammates at Mosaic Stadium, out at least four weeks', 'date': '2019-10-26'}\n",
      "{'_id': ObjectId('5db4785c3c72308e0ede0f9a'), 'header': \"Giordano, Flames pleased by 'pretty warm' forecast for Heritage Classic\", 'subheader': 'Captain recalls frigid conditions for outdoor game in Calgary in 2011', 'date': '2019-10-25'}\n",
      "{'_id': ObjectId('5db4785c3c72308e0ede0f9b'), 'header': 'Facts and Figures: Leddy secures spot in Islanders history', 'subheader': 'Becomes their first defenseman to score on penalty shot in victory at Senators', 'date': '2019-10-26'}\n",
      "{'_id': ObjectId('5db4785c3c72308e0ede0f9c'), 'header': 'Fantasy hockey top 200 rankings for 2019-20', 'subheader': 'Eichel joins first 25; Oshie gives Capitals six among 100 best; Burakovsky added to list after Rantanen injury', 'date': '2019-10-25'}\n",
      "{'_id': ObjectId('5db4785c3c72308e0ede0f9d'), 'header': 'Sasakamoose recalls historic hockey journey while meeting Bettman', 'subheader': \"NHL's first indigenous Canadian player expressed honor of having Heritage Classic in Saskatchewan\", 'date': '2019-10-26'}\n",
      "{'_id': ObjectId('5db4785c3c72308e0ede0f9e'), 'header': \"Tarasenko won't make weekend road trip for Blues with upper-body injury\", 'subheader': 'Forward will not travel for games against Bruins, Red Wings', 'date': '2019-10-25'}\n",
      "{'_id': ObjectId('5db4785c3c72308e0ede0f9f'), 'header': 'Morrissey relishing increased responsibility among Jets defensemen', 'subheader': '24-year-old now mentor to younger players as Winnipeg prepares for Heritage Classic', 'date': '2019-10-25'}\n",
      "{'_id': ObjectId('5db4785c3c72308e0ede0fa0'), 'header': 'Hawerchuk on minds during NHL Legacy Luncheon', 'subheader': 'Former Jets captain, member of Hockey Hall of Fame, has stomach cancer', 'date': '2019-10-25'}\n",
      "{'_id': ObjectId('5db4785c3c72308e0ede0fa1'), 'header': 'NHL DFS picks, projections, strategy', 'subheader': 'Thomas poised for bigger role with Blues after Tarasenko injury; more daily fantasy targets', 'date': '2019-10-26'}\n",
      "{'_id': ObjectId('5db4785c3c72308e0ede0fa2'), 'header': 'NHL, Flames, Jets unveil scholarship ahead of Heritage Classic', 'subheader': 'Legacy project to be awarded to students from University of Regina, University of Saskatchewan', 'date': '2019-10-25'}\n",
      "{'_id': ObjectId('5db4785c3c72308e0ede0fa3'), 'header': 'Blackhawks welcome boy who battled leukemia to practice', 'subheader': '12-year-old from Quebec will drop ceremonial puck during Chicago Hockey Fights Cancer night', 'date': '2019-10-25'}\n",
      "{'_id': ObjectId('5db4785c3c72308e0ede0fa4'), 'header': 'Dressed in Matthews jersey, Bieber fanboys out at Maple Leafs game', 'subheader': 'Superstar took in Toronto win behind team bench with dad', 'date': '2019-10-26'}\n",
      "{'_id': ObjectId('5db4785c3c72308e0ede0fa5'), 'header': '2019-20 NHL Trade Tracker', 'subheader': 'Official deals since June 14', 'date': '2019-10-25'}\n",
      "{'_id': ObjectId('5db4785c3c72308e0ede0fa6'), 'header': 'Fantasy goalie top 25 rankings for 2019-20', 'subheader': 'Coyotes, Islanders have best tandems; Jones trending down for Sharks', 'date': '2019-10-24'}\n",
      "{'_id': ObjectId('5db4785c3c72308e0ede0fa7'), 'header': 'Heritage Classic Diary: Mikael Backlund', 'subheader': 'Flames center discusses benefits of hard practice, rooming with wife, daughter on road', 'date': '2019-10-26'}\n",
      "{'_id': ObjectId('5db4785c3c72308e0ede0fa8'), 'header': 'Heritage Classic Diary: Bryan Little', 'subheader': 'Jets center tries to get used to outdoor surroundings, enjoys family skate with parents', 'date': '2019-10-26'}\n",
      "{'_id': ObjectId('5db4785c3c72308e0ede0fa9'), 'header': 'Perlini asks Blackhawks for trade', 'subheader': 'Forward has been scratched in seven of eight games this season', 'date': '2019-10-25'}\n",
      "{'_id': ObjectId('5db4785c3c72308e0ede0faa'), 'header': 'NHL Fantasy on Ice podcast available now', 'subheader': \"Buy-low, sell-high candidates, Hischier's return, weekend picks in new episode\", 'date': '2019-10-25'}\n",
      "{'_id': ObjectId('5db4785c3c72308e0ede0fab'), 'header': 'Oct. 26: Gretzky becomes first NHL player with 2,000 points', 'subheader': 'Plus: Lemieux scores 500th goal; Sabres win 10th straight game from start of season', 'date': '2019-10-26'}\n"
     ]
    }
   ],
   "source": [
    "# Display the MongoDB records created above\n",
    "articles = db.articles.find()\n",
    "for article in articles:\n",
    "    print(article)"
   ]
  }
 ],
 "metadata": {
  "kernelspec": {
   "display_name": "Python 3",
   "language": "python",
   "name": "python3"
  },
  "language_info": {
   "codemirror_mode": {
    "name": "ipython",
    "version": 3
   },
   "file_extension": ".py",
   "mimetype": "text/x-python",
   "name": "python",
   "nbconvert_exporter": "python",
   "pygments_lexer": "ipython3",
   "version": "3.7.4"
  },
  "varInspector": {
   "cols": {
    "lenName": 16,
    "lenType": 16,
    "lenVar": 40
   },
   "kernels_config": {
    "python": {
     "delete_cmd_postfix": "",
     "delete_cmd_prefix": "del ",
     "library": "var_list.py",
     "varRefreshCmd": "print(var_dic_list())"
    },
    "r": {
     "delete_cmd_postfix": ") ",
     "delete_cmd_prefix": "rm(",
     "library": "var_list.r",
     "varRefreshCmd": "cat(var_dic_list()) "
    }
   },
   "types_to_exclude": [
    "module",
    "function",
    "builtin_function_or_method",
    "instance",
    "_Feature"
   ],
   "window_display": false
  }
 },
 "nbformat": 4,
 "nbformat_minor": 2
}
