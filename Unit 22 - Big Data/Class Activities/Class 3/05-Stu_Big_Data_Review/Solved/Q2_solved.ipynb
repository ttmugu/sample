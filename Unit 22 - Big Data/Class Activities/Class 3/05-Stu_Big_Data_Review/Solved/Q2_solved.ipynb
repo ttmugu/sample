{
  "nbformat": 4,
  "nbformat_minor": 0,
  "metadata": {
    "colab": {
      "name": "Question2.ipynb",
      "provenance": []
    },
    "kernelspec": {
      "name": "python3",
      "display_name": "Python 3"
    }
  },
  "cells": [
    {
      "cell_type": "code",
      "metadata": {
        "id": "NP-I7IsYnkrv",
        "colab_type": "code",
        "colab": {}
      },
      "source": [
        "# Install Java, Spark, and Findspark\n",
        "!apt-get install openjdk-8-jdk-headless -qq > /dev/null\n",
        "!wget -q http://www-us.apache.org/dist/spark/spark-2.4.5/spark-2.4.5-bin-hadoop2.7.tgz\n",
        "!tar xf spark-2.4.5-bin-hadoop2.7.tgz\n",
        "!pip install -q findspark\n",
        "\n",
        "# Set Environment Variables\n",
        "import os\n",
        "os.environ[\"JAVA_HOME\"] = \"/usr/lib/jvm/java-8-openjdk-amd64\"\n",
        "os.environ[\"SPARK_HOME\"] = \"/content/spark-2.4.5-bin-hadoop2.7\"\n",
        "\n",
        "# Start a SparkSession\n",
        "import findspark\n",
        "findspark.init()"
      ],
      "execution_count": 0,
      "outputs": []
    },
    {
      "cell_type": "code",
      "metadata": {
        "id": "I1qEOGojnoTT",
        "colab_type": "code",
        "colab": {}
      },
      "source": [
        "from pyspark.sql import SparkSession\n",
        "spark = SparkSession.builder.appName(\"Q2\").getOrCreate()"
      ],
      "execution_count": 0,
      "outputs": []
    },
    {
      "cell_type": "code",
      "metadata": {
        "id": "dmXGRNfrnrAk",
        "colab_type": "code",
        "colab": {
          "base_uri": "https://localhost:8080/",
          "height": 295
        },
        "outputId": "d0116d4f-3908-4d8e-9f0f-f2083fcabe49"
      },
      "source": [
        "from pyspark import SparkFiles\n",
        "# Load in user_data.csv from S3 into a DataFrame\n",
        "url = \"https://s3.amazonaws.com/dataviz-curriculum/day_3/checkpoints/question_two.csv\"\n",
        "spark.sparkContext.addFile(url)\n",
        "\n",
        "df = spark.read.option('header', 'true').csv(SparkFiles.get(\"question_two.csv\"), inferSchema=True, sep=',', timestampFormat=\"mm/dd/yy\")\n",
        "df.show(10)"
      ],
      "execution_count": 3,
      "outputs": [
        {
          "output_type": "stream",
          "text": [
            "+--------------------+----------+\n",
            "|    coffee_shop_name|num_rating|\n",
            "+--------------------+----------+\n",
            "|The Factory - Caf...|         5|\n",
            "|The Factory - Caf...|         4|\n",
            "|The Factory - Caf...|         4|\n",
            "|The Factory - Caf...|         2|\n",
            "|The Factory - Caf...|         4|\n",
            "|The Factory - Caf...|         4|\n",
            "|The Factory - Caf...|         4|\n",
            "|The Factory - Caf...|         5|\n",
            "|The Factory - Caf...|         3|\n",
            "|The Factory - Caf...|         5|\n",
            "+--------------------+----------+\n",
            "only showing top 10 rows\n",
            "\n"
          ],
          "name": "stdout"
        }
      ]
    },
    {
      "cell_type": "markdown",
      "metadata": {
        "id": "HgRVeXBjntl1",
        "colab_type": "text"
      },
      "source": [
        "# Which coffee shop had the fewest number of ratings?"
      ]
    },
    {
      "cell_type": "code",
      "metadata": {
        "id": "BJU1njfLnt_e",
        "colab_type": "code",
        "colab": {
          "base_uri": "https://localhost:8080/",
          "height": 469
        },
        "outputId": "aa04a459-61a5-41d1-cf8e-926a5d80ede0"
      },
      "source": [
        "coffee_ratings_df = df.groupby(\"coffee_shop_name\").agg({\"coffee_shop_name\":\"count\"})\\\n",
        "\n",
        "coffee_ratings_df.orderBy(\"count(coffee_shop_name)\").show(truncate=False)"
      ],
      "execution_count": 4,
      "outputs": [
        {
          "output_type": "stream",
          "text": [
            "+------------------------------------+-----------------------+\n",
            "|coffee_shop_name                    |count(coffee_shop_name)|\n",
            "+------------------------------------+-----------------------+\n",
            "|Lola Savannah Coffee Downtown       |4                      |\n",
            "|The Marvelous Vintage Tea Party Co. |10                     |\n",
            "|Kowabunga Coffee                    |16                     |\n",
            "|Sister Coffee                       |17                     |\n",
            "|Lucky Lab Coffee                    |25                     |\n",
            "|Flitch Coffee                       |28                     |\n",
            "|Legend Coffee                       |28                     |\n",
            "|Friends & Neighbors                 |29                     |\n",
            "|Holy Grounds                        |30                     |\n",
            "|My Sweet Austin                     |31                     |\n",
            "|Tuscany At 360                      |33                     |\n",
            "|Ma√±ana Coffee & Juice              |33                     |\n",
            "|Brian's Brew                        |45                     |\n",
            "|Elixer Coffee                       |52                     |\n",
            "|Third Coast Coffee Roasting Company |56                     |\n",
            "|Fleet Coffee                        |57                     |\n",
            "|Flat Track Coffee                   |63                     |\n",
            "|Cafe Ruckus                         |68                     |\n",
            "|Emerald Tavern Games & Cafe         |76                     |\n",
            "|Fat Cats Organic Coffee And Dessert |94                     |\n",
            "+------------------------------------+-----------------------+\n",
            "only showing top 20 rows\n",
            "\n"
          ],
          "name": "stdout"
        }
      ]
    },
    {
      "cell_type": "code",
      "metadata": {
        "id": "4_isBIfoqcv5",
        "colab_type": "code",
        "colab": {}
      },
      "source": [
        ""
      ],
      "execution_count": 0,
      "outputs": []
    }
  ]
}