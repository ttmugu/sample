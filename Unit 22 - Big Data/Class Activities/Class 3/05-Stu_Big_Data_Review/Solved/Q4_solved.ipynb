{
  "nbformat": 4,
  "nbformat_minor": 0,
  "metadata": {
    "colab": {
      "name": "Question4.ipynb",
      "provenance": []
    },
    "kernelspec": {
      "name": "python3",
      "display_name": "Python 3"
    }
  },
  "cells": [
    {
      "cell_type": "code",
      "metadata": {
        "id": "MJbqQOeAo9zT",
        "colab_type": "code",
        "colab": {}
      },
      "source": [
        "# Install Java, Spark, and Findspark\n",
        "!apt-get install openjdk-8-jdk-headless -qq > /dev/null\n",
        "!wget -q http://www-us.apache.org/dist/spark/spark-2.4.5/spark-2.4.5-bin-hadoop2.7.tgz\n",
        "!tar xf spark-2.4.5-bin-hadoop2.7.tgz\n",
        "!pip install -q findspark\n",
        "\n",
        "# Set Environment Variables\n",
        "import os\n",
        "os.environ[\"JAVA_HOME\"] = \"/usr/lib/jvm/java-8-openjdk-amd64\"\n",
        "os.environ[\"SPARK_HOME\"] = \"/content/spark-2.4.5-bin-hadoop2.7\"\n",
        "\n",
        "# Start a SparkSession\n",
        "import findspark\n",
        "findspark.init()"
      ],
      "execution_count": 0,
      "outputs": []
    },
    {
      "cell_type": "code",
      "metadata": {
        "id": "IQrYXj6Oo_pX",
        "colab_type": "code",
        "colab": {}
      },
      "source": [
        "from pyspark.sql import SparkSession\n",
        "spark = SparkSession.builder.appName(\"Q4\").getOrCreate()"
      ],
      "execution_count": 0,
      "outputs": []
    },
    {
      "cell_type": "code",
      "metadata": {
        "id": "KFEJMGsOpJ4l",
        "colab_type": "code",
        "colab": {
          "base_uri": "https://localhost:8080/",
          "height": 295
        },
        "outputId": "d99f7ad3-09ca-4860-ffcf-ec25a7d8c84d"
      },
      "source": [
        "from pyspark import SparkFiles\n",
        "# Load in user_data.csv from S3 into a DataFrame\n",
        "url = \"https://s3.amazonaws.com/dataviz-curriculum/day_3/checkpoints/question_four.csv\"\n",
        "spark.sparkContext.addFile(url)\n",
        "\n",
        "df = spark.read.option('header', 'true').csv(SparkFiles.get(\"question_four.csv\"), inferSchema=True, sep=',', timestampFormat=\"mm/dd/yy\")\n",
        "df.show(10)"
      ],
      "execution_count": 3,
      "outputs": [
        {
          "output_type": "stream",
          "text": [
            "+--------------------+-------------------+\n",
            "|         review_text|               date|\n",
            "+--------------------+-------------------+\n",
            "|1 check-in Love l...|2016-01-25 00:11:00|\n",
            "|Listed in Date Ni...|2016-01-02 00:12:00|\n",
            "|1 check-in Listed...|2016-01-30 00:11:00|\n",
            "|Very cool vibe! G...|2016-01-25 00:11:00|\n",
            "|1 check-in They a...|2016-01-03 00:12:00|\n",
            "|1 check-in Very c...|2016-01-20 00:11:00|\n",
            "|\"2 check-ins List...|2016-01-27 00:10:00|\n",
            "|\"2 check-ins Love...|2016-01-02 00:11:00|\n",
            "|\"1 check-in Ok le...|2016-01-25 00:10:00|\n",
            "|3 check-ins This ...|2016-01-10 00:11:00|\n",
            "+--------------------+-------------------+\n",
            "only showing top 10 rows\n",
            "\n"
          ],
          "name": "stdout"
        }
      ]
    },
    {
      "cell_type": "markdown",
      "metadata": {
        "id": "FymHjJTqpK4q",
        "colab_type": "text"
      },
      "source": [
        "# What date had the highest number of reviews?"
      ]
    },
    {
      "cell_type": "code",
      "metadata": {
        "id": "frLzZ3iMpNWF",
        "colab_type": "code",
        "colab": {
          "base_uri": "https://localhost:8080/",
          "height": 469
        },
        "outputId": "ff040954-c5f7-4a21-f3b3-63036a6cde4b"
      },
      "source": [
        "# Order review and date with higesest reviews\n",
        "date_df = df.groupBy('date').agg({\"date\": \"count\"})\n",
        "date_df.show()"
      ],
      "execution_count": 5,
      "outputs": [
        {
          "output_type": "stream",
          "text": [
            "+-------------------+-----------+\n",
            "|               date|count(date)|\n",
            "+-------------------+-----------+\n",
            "|2015-01-07 00:01:00|         11|\n",
            "|2014-01-05 00:07:00|          1|\n",
            "|2014-01-17 00:10:00|          2|\n",
            "|2016-01-24 00:10:00|         11|\n",
            "|2016-01-27 00:01:00|          7|\n",
            "|2015-01-20 00:12:00|         10|\n",
            "|2013-01-08 00:05:00|          1|\n",
            "|2008-01-11 00:01:00|          1|\n",
            "|2012-01-12 00:07:00|          1|\n",
            "|2016-01-05 00:06:00|         19|\n",
            "|2011-01-22 00:11:00|          1|\n",
            "|2015-01-21 00:04:00|          6|\n",
            "|2015-01-09 00:10:00|          8|\n",
            "|2012-01-17 00:11:00|          1|\n",
            "|2011-01-01 00:02:00|          2|\n",
            "|2014-01-17 00:02:00|          2|\n",
            "|2012-01-30 00:07:00|          1|\n",
            "|2015-01-17 00:07:00|          3|\n",
            "|2013-01-10 00:05:00|          1|\n",
            "|2016-01-01 00:09:00|          7|\n",
            "+-------------------+-----------+\n",
            "only showing top 20 rows\n",
            "\n"
          ],
          "name": "stdout"
        }
      ]
    },
    {
      "cell_type": "code",
      "metadata": {
        "id": "hjBcQwjGpVrn",
        "colab_type": "code",
        "colab": {
          "base_uri": "https://localhost:8080/",
          "height": 469
        },
        "outputId": "2b530fcd-37cc-4521-a228-277ba4cd962c"
      },
      "source": [
        "from pyspark.sql.functions import desc\n",
        "date_df.orderBy(desc(\"count(date)\")).show()"
      ],
      "execution_count": 6,
      "outputs": [
        {
          "output_type": "stream",
          "text": [
            "+-------------------+-----------+\n",
            "|               date|count(date)|\n",
            "+-------------------+-----------+\n",
            "|2016-01-09 00:10:00|         31|\n",
            "|2016-01-18 00:09:00|         30|\n",
            "|2016-01-20 00:11:00|         27|\n",
            "|2016-01-02 00:11:00|         27|\n",
            "|2016-01-02 00:12:00|         26|\n",
            "|2016-01-04 00:12:00|         26|\n",
            "|2016-01-15 00:09:00|         25|\n",
            "|2016-01-07 00:10:00|         24|\n",
            "|2016-01-06 00:11:00|         24|\n",
            "|2016-01-24 00:07:00|         24|\n",
            "|2016-01-03 00:12:00|         23|\n",
            "|2016-01-25 00:10:00|         23|\n",
            "|2016-01-01 00:12:00|         23|\n",
            "|2016-01-17 00:04:00|         23|\n",
            "|2016-01-07 00:08:00|         22|\n",
            "|2016-01-27 00:06:00|         22|\n",
            "|2016-01-21 00:11:00|         21|\n",
            "|2016-01-04 00:01:00|         21|\n",
            "|2016-01-17 00:01:00|         21|\n",
            "|2016-01-30 00:07:00|         20|\n",
            "+-------------------+-----------+\n",
            "only showing top 20 rows\n",
            "\n"
          ],
          "name": "stdout"
        }
      ]
    },
    {
      "cell_type": "code",
      "metadata": {
        "id": "DXgAxK7ApVld",
        "colab_type": "code",
        "colab": {}
      },
      "source": [
        ""
      ],
      "execution_count": 0,
      "outputs": []
    }
  ]
}