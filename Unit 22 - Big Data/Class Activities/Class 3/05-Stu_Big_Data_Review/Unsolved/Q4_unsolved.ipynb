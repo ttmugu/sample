{
  "nbformat": 4,
  "nbformat_minor": 0,
  "metadata": {
    "colab": {
      "name": "Q4_unsolved.ipynb",
      "provenance": []
    },
    "kernelspec": {
      "name": "python3",
      "display_name": "Python 3"
    }
  },
  "cells": [
    {
      "cell_type": "code",
      "metadata": {
        "id": "MJbqQOeAo9zT",
        "colab_type": "code",
        "colab": {}
      },
      "source": [
        "# Install Java, Spark, and Findspark\n",
        "!apt-get install openjdk-8-jdk-headless -qq > /dev/null\n",
        "!wget -q http://www-us.apache.org/dist/spark/spark-2.4.5/spark-2.4.5-bin-hadoop2.7.tgz\n",
        "!tar xf spark-2.4.5-bin-hadoop2.7.tgz\n",
        "!pip install -q findspark\n",
        "\n",
        "# Set Environment Variables\n",
        "import os\n",
        "os.environ[\"JAVA_HOME\"] = \"/usr/lib/jvm/java-8-openjdk-amd64\"\n",
        "os.environ[\"SPARK_HOME\"] = \"/content/spark-2.4.5-bin-hadoop2.7\"\n",
        "\n",
        "# Start a SparkSession\n",
        "import findspark\n",
        "findspark.init()"
      ],
      "execution_count": 0,
      "outputs": []
    },
    {
      "cell_type": "code",
      "metadata": {
        "id": "IQrYXj6Oo_pX",
        "colab_type": "code",
        "colab": {}
      },
      "source": [
        "from pyspark.sql import SparkSession\n",
        "spark = SparkSession.builder.appName(\"Q4\").getOrCreate()"
      ],
      "execution_count": 0,
      "outputs": []
    },
    {
      "cell_type": "code",
      "metadata": {
        "id": "KFEJMGsOpJ4l",
        "colab_type": "code",
        "outputId": "d99f7ad3-09ca-4860-ffcf-ec25a7d8c84d",
        "colab": {
          "base_uri": "https://localhost:8080/",
          "height": 295
        }
      },
      "source": [
        "from pyspark import SparkFiles\n",
        "# Load in user_data.csv from S3 into a DataFrame\n",
        "url = \"https://s3.amazonaws.com/dataviz-curriculum/day_3/checkpoints/question_four.csv\"\n",
        "spark.sparkContext.addFile(url)\n",
        "\n",
        "df = spark.read.option('header', 'true').csv(SparkFiles.get(\"question_four.csv\"), inferSchema=True, sep=',', timestampFormat=\"mm/dd/yy\")\n",
        "df.show(10)"
      ],
      "execution_count": 0,
      "outputs": [
        {
          "output_type": "stream",
          "text": [
            "+--------------------+-------------------+\n",
            "|         review_text|               date|\n",
            "+--------------------+-------------------+\n",
            "|1 check-in Love l...|2016-01-25 00:11:00|\n",
            "|Listed in Date Ni...|2016-01-02 00:12:00|\n",
            "|1 check-in Listed...|2016-01-30 00:11:00|\n",
            "|Very cool vibe! G...|2016-01-25 00:11:00|\n",
            "|1 check-in They a...|2016-01-03 00:12:00|\n",
            "|1 check-in Very c...|2016-01-20 00:11:00|\n",
            "|\"2 check-ins List...|2016-01-27 00:10:00|\n",
            "|\"2 check-ins Love...|2016-01-02 00:11:00|\n",
            "|\"1 check-in Ok le...|2016-01-25 00:10:00|\n",
            "|3 check-ins This ...|2016-01-10 00:11:00|\n",
            "+--------------------+-------------------+\n",
            "only showing top 10 rows\n",
            "\n"
          ],
          "name": "stdout"
        }
      ]
    },
    {
      "cell_type": "markdown",
      "metadata": {
        "id": "FymHjJTqpK4q",
        "colab_type": "text"
      },
      "source": [
        "# What date had the highest number of reviews?"
      ]
    },
    {
      "cell_type": "code",
      "metadata": {
        "id": "DXgAxK7ApVld",
        "colab_type": "code",
        "colab": {}
      },
      "source": [
        ""
      ],
      "execution_count": 0,
      "outputs": []
    }
  ]
}